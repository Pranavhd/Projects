{
 "cells": [
  {
   "cell_type": "code",
   "execution_count": 1,
   "metadata": {},
   "outputs": [],
   "source": [
    "#https://towardsdatascience.com/multi-class-text-classification-with-doc2vec-logistic-regression-9da9947b43f4"
   ]
  },
  {
   "cell_type": "code",
   "execution_count": 94,
   "metadata": {
    "scrolled": true
   },
   "outputs": [
    {
     "ename": "ModuleNotFoundError",
     "evalue": "No module named 'tqdm'",
     "output_type": "error",
     "traceback": [
      "\u001b[1;31m---------------------------------------------------------------------------\u001b[0m",
      "\u001b[1;31mModuleNotFoundError\u001b[0m                       Traceback (most recent call last)",
      "\u001b[1;32m<ipython-input-94-05e94a7e0982>\u001b[0m in \u001b[0;36m<module>\u001b[1;34m()\u001b[0m\n\u001b[0;32m      1\u001b[0m \u001b[1;32mimport\u001b[0m \u001b[0mpandas\u001b[0m \u001b[1;32mas\u001b[0m \u001b[0mpd\u001b[0m\u001b[1;33m\u001b[0m\u001b[0m\n\u001b[0;32m      2\u001b[0m \u001b[1;32mimport\u001b[0m \u001b[0mnumpy\u001b[0m \u001b[1;32mas\u001b[0m \u001b[0mnp\u001b[0m\u001b[1;33m\u001b[0m\u001b[0m\n\u001b[1;32m----> 3\u001b[1;33m \u001b[1;32mfrom\u001b[0m \u001b[0mtqdm\u001b[0m \u001b[1;32mimport\u001b[0m \u001b[0mtqdm\u001b[0m\u001b[1;33m\u001b[0m\u001b[0m\n\u001b[0m\u001b[0;32m      4\u001b[0m \u001b[0mtqdm\u001b[0m\u001b[1;33m.\u001b[0m\u001b[0mpandas\u001b[0m\u001b[1;33m(\u001b[0m\u001b[0mdesc\u001b[0m\u001b[1;33m=\u001b[0m\u001b[1;34m\"progress-bar\"\u001b[0m\u001b[1;33m)\u001b[0m\u001b[1;33m\u001b[0m\u001b[0m\n\u001b[0;32m      5\u001b[0m \u001b[1;32mfrom\u001b[0m \u001b[0mgensim\u001b[0m\u001b[1;33m.\u001b[0m\u001b[0mmodels\u001b[0m \u001b[1;32mimport\u001b[0m \u001b[0mDoc2Vec\u001b[0m\u001b[1;33m\u001b[0m\u001b[0m\n",
      "\u001b[1;31mModuleNotFoundError\u001b[0m: No module named 'tqdm'"
     ]
    }
   ],
   "source": [
    "import pandas as pd\n",
    "import numpy as np\n",
    "from tqdm import tqdm\n",
    "tqdm.pandas(desc=\"progress-bar\")\n",
    "from gensim.models import Doc2Vec\n",
    "from sklearn import utils\n",
    "from sklearn.model_selection import train_test_split\n",
    "import gensim\n",
    "from sklearn.linear_model import LogisticRegression\n",
    "from gensim.models.doc2vec import TaggedDocument\n",
    "import re\n",
    "import seaborn as sns\n",
    "import matplotlib.pyplot as plt"
   ]
  },
  {
   "cell_type": "code",
   "execution_count": 66,
   "metadata": {},
   "outputs": [
    {
     "name": "stderr",
     "output_type": "stream",
     "text": [
      "C:\\ProgramData\\Anaconda3\\lib\\site-packages\\IPython\\core\\interactiveshell.py:2785: DtypeWarning: Columns (5,6,11,16) have mixed types. Specify dtype option on import or set low_memory=False.\n",
      "  interactivity=interactivity, compiler=compiler, result=result)\n"
     ]
    },
    {
     "name": "stdout",
     "output_type": "stream",
     "text": [
      "  Date received                                            Product  \\\n",
      "0    01/29/2019                                    Debt collection   \n",
      "1    01/29/2019  Credit reporting, credit repair services, or o...   \n",
      "2    01/29/2019                                    Debt collection   \n",
      "3    01/29/2019                                    Debt collection   \n",
      "4    01/29/2019  Credit reporting, credit repair services, or o...   \n",
      "\n",
      "        Sub-product                                              Issue  \\\n",
      "0      Medical debt                    Written notification about debt   \n",
      "1  Credit reporting  Problem with a credit reporting company's inve...   \n",
      "2        Other debt                  Attempts to collect debt not owed   \n",
      "3        Other debt                  Attempts to collect debt not owed   \n",
      "4  Credit reporting  Problem with a credit reporting company's inve...   \n",
      "\n",
      "                                           Sub-issue  \\\n",
      "0   Didn't receive enough information to verify debt   \n",
      "1         Problem with personal statement of dispute   \n",
      "2                  Debt was result of identity theft   \n",
      "3                                  Debt is not yours   \n",
      "4  Their investigation did not fix an error on yo...   \n",
      "\n",
      "  Consumer complaint narrative  \\\n",
      "0                          NaN   \n",
      "1                          NaN   \n",
      "2                          NaN   \n",
      "3                          NaN   \n",
      "4                          NaN   \n",
      "\n",
      "                             Company public response  \\\n",
      "0  Company has responded to the consumer and the ...   \n",
      "1                                                NaN   \n",
      "2                                                NaN   \n",
      "3                                                NaN   \n",
      "4                                                NaN   \n",
      "\n",
      "                         Company State ZIP code           Tags  \\\n",
      "0     Medical Data Systems, Inc.    GA    301XX            NaN   \n",
      "1         Westlake Services, LLC    GA    302XX            NaN   \n",
      "2         First Data Corporation    SC    29223  Servicemember   \n",
      "3  Diversified Consultants, Inc.    AR      NaN            NaN   \n",
      "4            ALLY FINANCIAL INC.    AZ    85042  Servicemember   \n",
      "\n",
      "  Consumer consent provided? Submitted via Date sent to company  \\\n",
      "0                        NaN           Web           01/29/2019   \n",
      "1                        NaN           Web           01/29/2019   \n",
      "2                        NaN           Web           01/29/2019   \n",
      "3                        NaN           Web           01/29/2019   \n",
      "4                        NaN           Web           01/29/2019   \n",
      "\n",
      "  Company response to consumer Timely response? Consumer disputed?  \\\n",
      "0      Closed with explanation              Yes                NaN   \n",
      "1      Closed with explanation              Yes                NaN   \n",
      "2                  In progress              Yes                NaN   \n",
      "3                  In progress              Yes                NaN   \n",
      "4                  In progress              Yes                NaN   \n",
      "\n",
      "   Complaint ID  \n",
      "0       3135753  \n",
      "1       3136587  \n",
      "2       3136093  \n",
      "3       3136552  \n",
      "4       3136548  \n"
     ]
    }
   ],
   "source": [
    "df = pd.read_csv('Consumer_Complaints.csv')\n",
    "print(df.head(5))\n",
    "df = df[['Consumer complaint narrative','Product']]\n",
    "df = df[pd.notnull(df['Consumer complaint narrative'])]\n",
    "df.rename(columns = {'Consumer complaint narrative':'narrative'}, inplace = True)"
   ]
  },
  {
   "cell_type": "code",
   "execution_count": 67,
   "metadata": {},
   "outputs": [
    {
     "data": {
      "text/html": [
       "<div>\n",
       "<style scoped>\n",
       "    .dataframe tbody tr th:only-of-type {\n",
       "        vertical-align: middle;\n",
       "    }\n",
       "\n",
       "    .dataframe tbody tr th {\n",
       "        vertical-align: top;\n",
       "    }\n",
       "\n",
       "    .dataframe thead th {\n",
       "        text-align: right;\n",
       "    }\n",
       "</style>\n",
       "<table border=\"1\" class=\"dataframe\">\n",
       "  <thead>\n",
       "    <tr style=\"text-align: right;\">\n",
       "      <th></th>\n",
       "      <th>narrative</th>\n",
       "      <th>Product</th>\n",
       "    </tr>\n",
       "  </thead>\n",
       "  <tbody>\n",
       "    <tr>\n",
       "      <th>155</th>\n",
       "      <td>My mortgage switched mortgage servicers. Previ...</td>\n",
       "      <td>Mortgage</td>\n",
       "    </tr>\n",
       "    <tr>\n",
       "      <th>290</th>\n",
       "      <td>Explanation of complaint : This XXXX  office, ...</td>\n",
       "      <td>Debt collection</td>\n",
       "    </tr>\n",
       "    <tr>\n",
       "      <th>319</th>\n",
       "      <td>There are many mistakes appear in my report wi...</td>\n",
       "      <td>Credit reporting, credit repair services, or o...</td>\n",
       "    </tr>\n",
       "    <tr>\n",
       "      <th>325</th>\n",
       "      <td>They are failing to validate debt in which the...</td>\n",
       "      <td>Debt collection</td>\n",
       "    </tr>\n",
       "    <tr>\n",
       "      <th>327</th>\n",
       "      <td>I had a medical debt that should have been pai...</td>\n",
       "      <td>Debt collection</td>\n",
       "    </tr>\n",
       "  </tbody>\n",
       "</table>\n",
       "</div>"
      ],
      "text/plain": [
       "                                             narrative  \\\n",
       "155  My mortgage switched mortgage servicers. Previ...   \n",
       "290  Explanation of complaint : This XXXX  office, ...   \n",
       "319  There are many mistakes appear in my report wi...   \n",
       "325  They are failing to validate debt in which the...   \n",
       "327  I had a medical debt that should have been pai...   \n",
       "\n",
       "                                               Product  \n",
       "155                                           Mortgage  \n",
       "290                                    Debt collection  \n",
       "319  Credit reporting, credit repair services, or o...  \n",
       "325                                    Debt collection  \n",
       "327                                    Debt collection  "
      ]
     },
     "execution_count": 67,
     "metadata": {},
     "output_type": "execute_result"
    }
   ],
   "source": [
    "df.head(5)"
   ]
  },
  {
   "cell_type": "code",
   "execution_count": 68,
   "metadata": {},
   "outputs": [
    {
     "data": {
      "text/plain": [
       "(7500, 2)"
      ]
     },
     "execution_count": 68,
     "metadata": {},
     "output_type": "execute_result"
    }
   ],
   "source": [
    "df = df.iloc[:7500]\n",
    "df.shape"
   ]
  },
  {
   "cell_type": "code",
   "execution_count": 69,
   "metadata": {},
   "outputs": [
    {
     "data": {
      "text/html": [
       "<div>\n",
       "<style scoped>\n",
       "    .dataframe tbody tr th:only-of-type {\n",
       "        vertical-align: middle;\n",
       "    }\n",
       "\n",
       "    .dataframe tbody tr th {\n",
       "        vertical-align: top;\n",
       "    }\n",
       "\n",
       "    .dataframe thead th {\n",
       "        text-align: right;\n",
       "    }\n",
       "</style>\n",
       "<table border=\"1\" class=\"dataframe\">\n",
       "  <thead>\n",
       "    <tr style=\"text-align: right;\">\n",
       "      <th></th>\n",
       "      <th>narrative</th>\n",
       "      <th>Product</th>\n",
       "    </tr>\n",
       "  </thead>\n",
       "  <tbody>\n",
       "    <tr>\n",
       "      <th>0</th>\n",
       "      <td>My mortgage switched mortgage servicers. Previ...</td>\n",
       "      <td>Mortgage</td>\n",
       "    </tr>\n",
       "    <tr>\n",
       "      <th>1</th>\n",
       "      <td>Explanation of complaint : This XXXX  office, ...</td>\n",
       "      <td>Debt collection</td>\n",
       "    </tr>\n",
       "    <tr>\n",
       "      <th>2</th>\n",
       "      <td>There are many mistakes appear in my report wi...</td>\n",
       "      <td>Credit reporting, credit repair services, or o...</td>\n",
       "    </tr>\n",
       "    <tr>\n",
       "      <th>3</th>\n",
       "      <td>They are failing to validate debt in which the...</td>\n",
       "      <td>Debt collection</td>\n",
       "    </tr>\n",
       "    <tr>\n",
       "      <th>4</th>\n",
       "      <td>I had a medical debt that should have been pai...</td>\n",
       "      <td>Debt collection</td>\n",
       "    </tr>\n",
       "  </tbody>\n",
       "</table>\n",
       "</div>"
      ],
      "text/plain": [
       "                                           narrative  \\\n",
       "0  My mortgage switched mortgage servicers. Previ...   \n",
       "1  Explanation of complaint : This XXXX  office, ...   \n",
       "2  There are many mistakes appear in my report wi...   \n",
       "3  They are failing to validate debt in which the...   \n",
       "4  I had a medical debt that should have been pai...   \n",
       "\n",
       "                                             Product  \n",
       "0                                           Mortgage  \n",
       "1                                    Debt collection  \n",
       "2  Credit reporting, credit repair services, or o...  \n",
       "3                                    Debt collection  \n",
       "4                                    Debt collection  "
      ]
     },
     "execution_count": 69,
     "metadata": {},
     "output_type": "execute_result"
    }
   ],
   "source": [
    "df.index = range(7500)\n",
    "df.head()"
   ]
  },
  {
   "cell_type": "code",
   "execution_count": 70,
   "metadata": {},
   "outputs": [
    {
     "data": {
      "text/plain": [
       "1367006"
      ]
     },
     "execution_count": 70,
     "metadata": {},
     "output_type": "execute_result"
    }
   ],
   "source": [
    "df['narrative'].apply(lambda x: len(x.split(' '))).sum()"
   ]
  },
  {
   "cell_type": "code",
   "execution_count": 71,
   "metadata": {},
   "outputs": [
    {
     "data": {
      "image/png": "[encoded data removed]",
      "text/plain": [
       "<Figure size 1080x288 with 1 Axes>"
      ]
     },
     "metadata": {},
     "output_type": "display_data"
    }
   ],
   "source": [
    "cnt_pro = df['Product'].value_counts()\n",
    "\n",
    "plt.figure(figsize=(15,4))\n",
    "sns.barplot(cnt_pro.index, cnt_pro.values, alpha=1)\n",
    "plt.ylabel('Number of Occurrences', fontsize=12)\n",
    "plt.xlabel('Product', fontsize=12)\n",
    "plt.xticks(rotation=90)\n",
    "plt.show();"
   ]
  },
  {
   "cell_type": "code",
   "execution_count": 72,
   "metadata": {},
   "outputs": [
    {
     "name": "stdout",
     "output_type": "stream",
     "text": [
      "Credit reporting, credit repair services, or other personal consumer reports    3882\n",
      "Debt collection                                                                 1202\n",
      "Credit card or prepaid card                                                      761\n",
      "Mortgage                                                                         592\n",
      "Checking or savings account                                                      573\n",
      "Vehicle loan or lease                                                            134\n",
      "Money transfer, virtual currency, or money service                               122\n",
      "Payday loan, title loan, or personal loan                                        119\n",
      "Student loan                                                                     115\n",
      "Name: Product, dtype: int64\n"
     ]
    }
   ],
   "source": [
    "print(cnt_pro)"
   ]
  },
  {
   "cell_type": "code",
   "execution_count": 73,
   "metadata": {},
   "outputs": [],
   "source": [
    "def print_complaint(index):\n",
    "    example = df[df.index == index][['narrative', 'Product']].values[0]\n",
    "    if len(example) > 0:\n",
    "        print(example[0])\n",
    "        print('Product:', example[1])"
   ]
  },
  {
   "cell_type": "code",
   "execution_count": 74,
   "metadata": {},
   "outputs": [
    {
     "name": "stdout",
     "output_type": "stream",
     "text": [
      "My mortgage switched mortgage servicers. Previously I had your standard mortgage due on the first of the month with the 15 day grace period which wasn't great but doable with my income schedule. Now that the mortgage servicer has switched ; they charge me to make a payment online on their website, and they also charge me late fees after only a couple days from the XXXX of the month. So, I went from always being current on my mortgage to always being late and charged fees on a monthly basis. I never would have agreed to a mortgage with such terms and I had/have no control over my mortgage being sold to a different servicer that implements such terms. This is creating unnecessary financial hardship for me as I have two mortgages that were sold to this servicer.\n",
      "Product: Mortgage\n"
     ]
    }
   ],
   "source": [
    "print_complaint(0)"
   ]
  },
  {
   "cell_type": "code",
   "execution_count": 75,
   "metadata": {},
   "outputs": [
    {
     "name": "stdout",
     "output_type": "stream",
     "text": [
      "[\"My mortgage switched mortgage servicers. Previously I had your standard mortgage due on the first of the month with the 15 day grace period which wasn't great but doable with my income schedule. Now that the mortgage servicer has switched ; they charge me to make a payment online on their website, and they also charge me late fees after only a couple days from the XXXX of the month. So, I went from always being current on my mortgage to always being late and charged fees on a monthly basis. I never would have agreed to a mortgage with such terms and I had/have no control over my mortgage being sold to a different servicer that implements such terms. This is creating unnecessary financial hardship for me as I have two mortgages that were sold to this servicer.\"\n",
      " 'Mortgage']\n"
     ]
    }
   ],
   "source": [
    "print(df[df.index == 0][['narrative', 'Product']].values[0])"
   ]
  },
  {
   "cell_type": "code",
   "execution_count": 76,
   "metadata": {},
   "outputs": [],
   "source": [
    "from bs4 import BeautifulSoup\n",
    "\n",
    "def cleanText(text):\n",
    "    text = BeautifulSoup(text, \"lxml\").text\n",
    "    text = re.sub(r'\\|\\|\\|', r' ', text) \n",
    "    text = re.sub(r'http\\S+', r'<URL>', text)\n",
    "    text = text.lower()\n",
    "    text = text.replace('x', '')\n",
    "    \n",
    "    word_tokens = word_tokenize(text)\n",
    "    filtered_sentence = [w for w in word_tokens if not w in stop_words]\n",
    "    text = \" \".join(filtered_sentence)\n",
    "    \n",
    "    return text\n"
   ]
  },
  {
   "cell_type": "code",
   "execution_count": 77,
   "metadata": {},
   "outputs": [],
   "source": [
    "from nltk.corpus import stopwords \n",
    "from nltk.tokenize import word_tokenize "
   ]
  },
  {
   "cell_type": "code",
   "execution_count": 78,
   "metadata": {},
   "outputs": [],
   "source": [
    "stop_words = set(stopwords.words('english')) "
   ]
  },
  {
   "cell_type": "code",
   "execution_count": 79,
   "metadata": {},
   "outputs": [],
   "source": [
    "df['narrative'] = df['narrative'].apply(cleanText)"
   ]
  },
  {
   "cell_type": "code",
   "execution_count": 80,
   "metadata": {},
   "outputs": [
    {
     "name": "stdout",
     "output_type": "stream",
     "text": [
      "[\"mortgage switched mortgage servicers . previously standard mortgage due first month 15 day grace period n't great doable income schedule . mortgage servicer switched ; charge make payment online website , also charge late fees couple days month . , went always current mortgage always late charged fees monthly basis . never would agreed mortgage terms had/have control mortgage sold different servicer implements terms . creating unnecessary financial hardship two mortgages sold servicer .\"\n",
      " 'Mortgage']\n"
     ]
    }
   ],
   "source": [
    "print(df[df.index == 0][['narrative', 'Product']].values[0])"
   ]
  },
  {
   "cell_type": "code",
   "execution_count": 81,
   "metadata": {},
   "outputs": [],
   "source": [
    "df.to_excel('7500_consumer_complaints.xlsx')"
   ]
  },
  {
   "cell_type": "code",
   "execution_count": 82,
   "metadata": {},
   "outputs": [],
   "source": [
    "train, test = train_test_split(df, test_size=0.3)"
   ]
  },
  {
   "cell_type": "code",
   "execution_count": 83,
   "metadata": {},
   "outputs": [
    {
     "name": "stdout",
     "output_type": "stream",
     "text": [
      "                                              narrative  \\\n",
      "6751  usaa , , , az ( ) employer . reported manager ...   \n",
      "3763  //18 , called citibank customer service regard...   \n",
      "4020  eradicate every claim alleged yet unproven res...   \n",
      "1632  ran credit first time via .. noticed charges a...   \n",
      "6469  cba claimed owed { $ 180.00 } reported credit ...   \n",
      "5812  second attempt bring issue someones attention ...   \n",
      "6170  creditor reporting accounts invalid unverified...   \n",
      "3468  original submission loan modification request ...   \n",
      "664   //2018 citibank charged overdraft followed mon...   \n",
      "141   deposited check electronically . full amount d...   \n",
      "2241  loan serviced shellpoint transferred ( ) // . ...   \n",
      "4069  hello ! , charged merchant citi card // . n't ...   \n",
      "3410  eperian eperian complying good faith //2018 cr...   \n",
      "5965  originally applied loan modification months ag...   \n",
      "5294  //2018 received email alert eperian notifying ...   \n",
      "182   recently victim identity theft drastically eff...   \n",
      "2487  , ally sent notice ( non-spouse beneficiary ) ...   \n",
      "666   received notice sued debt collection closed/an...   \n",
      "1070  # account settled full original creditor ! lon...   \n",
      "6783  called //2018 dispute { $ 3.00 } transaction c...   \n",
      "5430  applied loan modification student loans go gra...   \n",
      "2458  n't able collect bonus citibank filed complain...   \n",
      "7052  // approved income base repayment plan . n't p...   \n",
      "2800  got phone select portfolio , informed mortgage...   \n",
      "158   many mistakes appear report without understand...   \n",
      "1889  please refer complaint . due technical problem...   \n",
      "2497  n't understand accounts showing inaccurate inf...   \n",
      "5210  dispute wanting { $ 1100.00 } settle account ....   \n",
      "2883  paid auto insurance nine months time , never l...   \n",
      "3699  member eperian 's protect id identity theft pr...   \n",
      "...                                                 ...   \n",
      "598   victim identity theft fraud . several personal...   \n",
      "3987  //2018 , account synchrony bank taken someone ...   \n",
      "1076  complaint made despite properly submitted disp...   \n",
      "6581  //2018 , received notification , omp cyber inc...   \n",
      "5358  've sent multiple letters agency account . adv...   \n",
      "1708  { $ 470.00 } challenge accuracy , compliance r...   \n",
      "4659  many mistakes appear report without understand...   \n",
      "3077  loancare llc began servicing mortgage //2018 ....   \n",
      "797   going credit report noticed addresses mine sho...   \n",
      "6973  client , victim identity theft . received noti...   \n",
      "3572  //2018 , made online payment jcpenney 's store...   \n",
      "479   contacted eperian removing judgement credit fi...   \n",
      "3338  following accounts associated , contractual ob...   \n",
      "1377  made two purchases //2018 , one purchase //201...   \n",
      "6079  aflame blemishes entries placed credit report ...   \n",
      "5777  writing last night around got usual deposit ac...   \n",
      "4022  good afternoon , showing new address never ass...   \n",
      "5112  continuation complaint reference number accept...   \n",
      "876   transunion year protested alleged account veri...   \n",
      "4833  . new managing agent //18 . called 3+ times in...   \n",
      "3433  //2018 , suntrust mortgage servicing advised m...   \n",
      "6948  //2018 discovered two bankruptcies reinserted ...   \n",
      "4221  requested copy credit report // discovered unk...   \n",
      "3831  opened brokerage account checking account char...   \n",
      "2117  writing inform payment history inaccurate info...   \n",
      "1072  according recent credit report request , eperi...   \n",
      "5435  obtained 30 yr. fied mortgage last // . insist...   \n",
      "6179  interest rate line credit 360 % . way higher l...   \n",
      "1192  wells fargo opened secured credit card using f...   \n",
      "4392  phoeni financial reported collection credit re...   \n",
      "\n",
      "                                                Product  \n",
      "6751  Credit reporting, credit repair services, or o...  \n",
      "3763                        Credit card or prepaid card  \n",
      "4020  Credit reporting, credit repair services, or o...  \n",
      "1632                                    Debt collection  \n",
      "6469                                    Debt collection  \n",
      "5812                                       Student loan  \n",
      "6170                                    Debt collection  \n",
      "3468                                           Mortgage  \n",
      "664                         Checking or savings account  \n",
      "141                         Checking or savings account  \n",
      "2241  Credit reporting, credit repair services, or o...  \n",
      "4069                        Credit card or prepaid card  \n",
      "3410  Credit reporting, credit repair services, or o...  \n",
      "5965                                           Mortgage  \n",
      "5294  Credit reporting, credit repair services, or o...  \n",
      "182   Credit reporting, credit repair services, or o...  \n",
      "2487  Money transfer, virtual currency, or money ser...  \n",
      "666                                     Debt collection  \n",
      "1070                                    Debt collection  \n",
      "6783                        Checking or savings account  \n",
      "5430  Credit reporting, credit repair services, or o...  \n",
      "2458                        Checking or savings account  \n",
      "7052                                       Student loan  \n",
      "2800                                           Mortgage  \n",
      "158   Credit reporting, credit repair services, or o...  \n",
      "1889                                           Mortgage  \n",
      "2497  Credit reporting, credit repair services, or o...  \n",
      "5210  Credit reporting, credit repair services, or o...  \n",
      "2883                        Checking or savings account  \n",
      "3699  Credit reporting, credit repair services, or o...  \n",
      "...                                                 ...  \n",
      "598   Credit reporting, credit repair services, or o...  \n",
      "3987                        Credit card or prepaid card  \n",
      "1076  Credit reporting, credit repair services, or o...  \n",
      "6581  Credit reporting, credit repair services, or o...  \n",
      "5358                                    Debt collection  \n",
      "1708  Credit reporting, credit repair services, or o...  \n",
      "4659  Credit reporting, credit repair services, or o...  \n",
      "3077                                           Mortgage  \n",
      "797   Credit reporting, credit repair services, or o...  \n",
      "6973  Credit reporting, credit repair services, or o...  \n",
      "3572                        Credit card or prepaid card  \n",
      "479   Credit reporting, credit repair services, or o...  \n",
      "3338  Credit reporting, credit repair services, or o...  \n",
      "1377  Money transfer, virtual currency, or money ser...  \n",
      "6079  Credit reporting, credit repair services, or o...  \n",
      "5777                        Credit card or prepaid card  \n",
      "4022  Credit reporting, credit repair services, or o...  \n",
      "5112                        Credit card or prepaid card  \n",
      "876   Credit reporting, credit repair services, or o...  \n",
      "4833                                           Mortgage  \n",
      "3433                                           Mortgage  \n",
      "6948  Credit reporting, credit repair services, or o...  \n",
      "4221  Credit reporting, credit repair services, or o...  \n",
      "3831                        Checking or savings account  \n",
      "2117  Credit reporting, credit repair services, or o...  \n",
      "1072  Credit reporting, credit repair services, or o...  \n",
      "5435                                           Mortgage  \n",
      "6179          Payday loan, title loan, or personal loan  \n",
      "1192                        Credit card or prepaid card  \n",
      "4392  Credit reporting, credit repair services, or o...  \n",
      "\n",
      "[5250 rows x 2 columns] <class 'pandas.core.frame.DataFrame'>\n"
     ]
    }
   ],
   "source": [
    "print(train,type(train))"
   ]
  },
  {
   "cell_type": "code",
   "execution_count": 84,
   "metadata": {},
   "outputs": [],
   "source": [
    "import nltk\n",
    "from nltk.corpus import stopwords\n",
    "def tokenize_text(text):\n",
    "    tokens = []\n",
    "    for sent in nltk.sent_tokenize(text):\n",
    "        for word in nltk.word_tokenize(sent):\n",
    "            if len(word) < 2:\n",
    "                continue\n",
    "            tokens.append(word.lower())\n",
    "    return tokens"
   ]
  },
  {
   "cell_type": "code",
   "execution_count": 88,
   "metadata": {},
   "outputs": [],
   "source": [
    "train_tagged = train.apply(\n",
    "    lambda r: TaggedDocument(words=tokenize_text(r['narrative']), tags=[r.Product]), axis=1)\n",
    "test_tagged = test.apply(\n",
    "    lambda r: TaggedDocument(words=tokenize_text(r['narrative']), tags=[r.Product]), axis=1)"
   ]
  },
  {
   "cell_type": "code",
   "execution_count": 91,
   "metadata": {},
   "outputs": [
    {
     "name": "stdout",
     "output_type": "stream",
     "text": [
      "TaggedDocument(['mortgage', 'switched', 'mortgage', 'servicers', 'previously', 'standard', 'mortgage', 'due', 'first', 'month', '15', 'day', 'grace', 'period', \"n't\", 'great', 'doable', 'income', 'schedule', 'mortgage', 'servicer', 'switched', 'charge', 'make', 'payment', 'online', 'website', 'also', 'charge', 'late', 'fees', 'couple', 'days', 'month', 'went', 'always', 'current', 'mortgage', 'always', 'late', 'charged', 'fees', 'monthly', 'basis', 'never', 'would', 'agreed', 'mortgage', 'terms', 'had/have', 'control', 'mortgage', 'sold', 'different', 'servicer', 'implements', 'terms', 'creating', 'unnecessary', 'financial', 'hardship', 'two', 'mortgages', 'sold', 'servicer'], ['Mortgage'])\n"
     ]
    }
   ],
   "source": [
    "print(train_tagged[0])"
   ]
  },
  {
   "cell_type": "code",
   "execution_count": 92,
   "metadata": {},
   "outputs": [
    {
     "name": "stdout",
     "output_type": "stream",
     "text": [
      "TaggedDocument(['usaa', 'az', 'employer', 'reported', 'manager', 'legal', 'counsel', 'usaa', 'credit', 'bureau', 'report', 'shared', 'plus', 'employees', 'began', 'around', '//2018', 'supervisor', 'shared', 'cbr', 'co-workers', 'others', 'infringement', 'right', 'privacy', 'witnesses', 'many', 'work', 'usaa', 'attorney', 'general', 'witness', 'information', 'reluctant', 'file', 'charges', 'usaa', 'please', 'stand', 'privacy', 'rights', 'thank', 'also', 'appears', 'company', 'reported', 'history', 'another', 'person', \"'s\", 'cbr', 'namely', 'sent', 'letters', 'cbr', 'agencies', 'take', 'information', 'cbrs', 'az'], ['Credit reporting, credit repair services, or other personal consumer reports'])\n"
     ]
    }
   ],
   "source": [
    "print(train_tagged.values[0])"
   ]
  },
  {
   "cell_type": "code",
   "execution_count": 118,
   "metadata": {},
   "outputs": [
    {
     "name": "stdout",
     "output_type": "stream",
     "text": [
      "5250\n"
     ]
    }
   ],
   "source": [
    "print(len(train_tagged))"
   ]
  },
  {
   "cell_type": "code",
   "execution_count": 93,
   "metadata": {},
   "outputs": [
    {
     "data": {
      "text/plain": [
       "4"
      ]
     },
     "execution_count": 93,
     "metadata": {},
     "output_type": "execute_result"
    }
   ],
   "source": [
    "import multiprocessing\n",
    "\n",
    "cores = multiprocessing.cpu_count()\n",
    "cores"
   ]
  },
  {
   "cell_type": "code",
   "execution_count": 96,
   "metadata": {},
   "outputs": [],
   "source": [
    "model_dbow = Doc2Vec(dm=0, vector_size=300, negative=5, hs=0, min_count=2, sample = 0, workers=cores)\n",
    "model_dbow.build_vocab([x for x in (train_tagged.values)])"
   ]
  },
  {
   "cell_type": "code",
   "execution_count": 97,
   "metadata": {},
   "outputs": [
    {
     "data": {
      "text/plain": [
       "<gensim.models.doc2vec.Doc2Vec at 0x1b28608a588>"
      ]
     },
     "execution_count": 97,
     "metadata": {},
     "output_type": "execute_result"
    }
   ],
   "source": [
    "model_dbow"
   ]
  },
  {
   "cell_type": "code",
   "execution_count": 102,
   "metadata": {},
   "outputs": [],
   "source": [
    "for epoch in range(30):\n",
    "    model_dbow.train(utils.shuffle([x for x in (train_tagged.values)]), total_examples=len(train_tagged.values), epochs=1)\n",
    "    model_dbow.alpha -= 0.002\n",
    "    model_dbow.min_alpha = model_dbow.alpha"
   ]
  },
  {
   "cell_type": "code",
   "execution_count": 108,
   "metadata": {},
   "outputs": [
    {
     "name": "stdout",
     "output_type": "stream",
     "text": [
      "{'Credit reporting, credit repair services, or other personal consumer reports': Doctag(offset=0, word_count=168948, doc_count=2733), 'Credit card or prepaid card': Doctag(offset=1, word_count=63910, doc_count=520), 'Debt collection': Doctag(offset=2, word_count=61026, doc_count=830), 'Student loan': Doctag(offset=3, word_count=8205, doc_count=75), 'Mortgage': Doctag(offset=4, word_count=60460, doc_count=421), 'Checking or savings account': Doctag(offset=5, word_count=46923, doc_count=398), 'Money transfer, virtual currency, or money service': Doctag(offset=6, word_count=8658, doc_count=76), 'Vehicle loan or lease': Doctag(offset=7, word_count=10265, doc_count=102), 'Payday loan, title loan, or personal loan': Doctag(offset=8, word_count=7310, doc_count=95)} <class 'dict'>\n"
     ]
    }
   ],
   "source": [
    "print(model_dbow.docvecs.doctags,type(model_dbow.docvecs.doctags))"
   ]
  },
  {
   "cell_type": "code",
   "execution_count": 109,
   "metadata": {},
   "outputs": [
    {
     "name": "stdout",
     "output_type": "stream",
     "text": [
      "Credit reporting, credit repair services, or other personal consumer reports\n",
      "Credit card or prepaid card\n",
      "Debt collection\n",
      "Student loan\n",
      "Mortgage\n",
      "Checking or savings account\n",
      "Money transfer, virtual currency, or money service\n",
      "Vehicle loan or lease\n",
      "Payday loan, title loan, or personal loan\n"
     ]
    }
   ],
   "source": [
    "for key in model_dbow.docvecs.doctags:\n",
    "    print(key)"
   ]
  },
  {
   "cell_type": "code",
   "execution_count": 111,
   "metadata": {},
   "outputs": [
    {
     "data": {
      "text/plain": [
       "gensim.models.doc2vec.Doctag"
      ]
     },
     "execution_count": 111,
     "metadata": {},
     "output_type": "execute_result"
    }
   ],
   "source": [
    "type(model_dbow.docvecs.doctags['Mortgage'])"
   ]
  },
  {
   "cell_type": "code",
   "execution_count": 112,
   "metadata": {},
   "outputs": [
    {
     "name": "stdout",
     "output_type": "stream",
     "text": [
      "['Credit reporting, credit repair services, or other personal consumer reports', 'Credit card or prepaid card', 'Debt collection', 'Student loan', 'Mortgage', 'Checking or savings account', 'Money transfer, virtual currency, or money service', 'Vehicle loan or lease', 'Payday loan, title loan, or personal loan']\n"
     ]
    }
   ],
   "source": [
    "print(model_dbow.docvecs.offset2doctag)"
   ]
  },
  {
   "cell_type": "code",
   "execution_count": 115,
   "metadata": {},
   "outputs": [
    {
     "data": {
      "text/plain": [
       "array([ 6.61265135e-01, -7.49917567e-01,  1.04127061e+00,  6.38283670e-01,\n",
       "       -9.57075298e-01,  8.81998479e-01,  9.87510502e-01,  7.79674828e-01,\n",
       "        4.60139990e-01, -3.56154025e-01, -1.58834770e-01, -2.10168570e-01,\n",
       "       -9.00713354e-02, -8.28206062e-01, -1.29504144e+00, -3.86685610e-01,\n",
       "        3.76208574e-01,  4.25808340e-01,  1.91399425e-01,  2.37975061e-01,\n",
       "        3.21178317e-01,  2.81038642e-01, -7.74742961e-01,  2.61643510e-02,\n",
       "        1.41207188e-01,  2.37323195e-01, -3.25169742e-01,  2.24320054e-01,\n",
       "       -1.15341701e-01, -1.27536166e+00, -1.49673462e-01,  9.07940328e-01,\n",
       "        1.17037487e+00,  5.49259007e-01, -4.42554206e-01, -1.33278930e+00,\n",
       "       -2.90994376e-01, -5.04024267e-01, -7.77175665e-01, -1.21488005e-01,\n",
       "        6.97911009e-02,  8.69142294e-01,  2.57026311e-02,  1.10424526e-01,\n",
       "        3.48031789e-01,  3.85266483e-01,  1.76889092e-01,  2.49590371e-02,\n",
       "        5.23452818e-01,  8.07116151e-01,  9.96944547e-01, -3.73361498e-01,\n",
       "        2.68860787e-01, -1.76629081e-01, -3.00028741e-01,  7.10800707e-01,\n",
       "       -7.81018257e-01,  6.89680696e-01, -4.72681135e-01, -3.29988778e-01,\n",
       "       -2.43922949e-01,  4.06484067e-01,  2.50061005e-01,  6.26217008e-01,\n",
       "        3.31578523e-01,  5.61465085e-01,  4.88287024e-02, -4.52108085e-01,\n",
       "       -1.50635585e-01,  4.33185190e-01, -7.25964665e-01, -8.72782350e-01,\n",
       "        4.58527729e-03, -7.82914311e-02,  2.97543347e-01, -3.46262723e-01,\n",
       "       -3.76990288e-01, -4.81485128e-02,  4.73016411e-01, -1.78427413e-01,\n",
       "        6.52450249e-02, -4.90049809e-01,  4.33393903e-02,  6.26039505e-01,\n",
       "        9.50723290e-01, -6.10378146e-01,  4.47994500e-01,  1.15499005e-01,\n",
       "        6.24862611e-01, -7.39208341e-01,  1.00644004e+00, -1.21749425e+00,\n",
       "       -4.05321330e-01,  1.67509750e-01,  5.68663895e-01, -6.66195080e-02,\n",
       "        5.67774534e-01,  5.18552721e-01, -1.13656378e+00,  9.27908838e-01,\n",
       "        6.05293453e-01,  3.09841037e-01,  3.65930796e-01, -8.63375217e-02,\n",
       "       -4.28049743e-01,  6.82930112e-01, -1.10963397e-01,  1.65574908e-01,\n",
       "        6.59131527e-01, -6.07089162e-01, -7.26074636e-01, -6.88290834e-01,\n",
       "        2.92248547e-01,  1.03195816e-01, -7.53127277e-01, -6.88697845e-02,\n",
       "        3.25152308e-01, -6.52363747e-02, -2.45376244e-01, -6.63928241e-02,\n",
       "        8.88040423e-01,  7.58240968e-02, -3.48657727e-01,  4.41835463e-01,\n",
       "        1.27302825e-01, -9.40569937e-02,  6.43678308e-01, -5.38894795e-02,\n",
       "       -4.45850134e-01, -9.90390033e-02,  1.13936472e+00,  7.77468026e-01,\n",
       "        7.25522757e-01,  2.13533521e-01, -1.20379996e+00, -1.20077646e+00,\n",
       "        5.12574434e-01,  9.90102440e-02,  7.07217991e-01,  7.65855685e-02,\n",
       "        6.98147416e-01,  4.41049129e-01, -6.72284961e-01, -5.30906677e-01,\n",
       "       -6.24959111e-01,  4.74196941e-01,  7.92470157e-01,  6.73007190e-01,\n",
       "        4.65355903e-01,  1.38136814e-03,  4.46770161e-01,  9.51144934e-01,\n",
       "       -3.20992619e-01,  1.48860663e-01,  2.84487873e-01, -4.30006199e-02,\n",
       "        2.11775109e-01, -3.68382424e-01,  1.99552864e-01, -3.00825059e-01,\n",
       "       -4.36798543e-01, -1.75572678e-01, -1.93024129e-01, -1.61120221e-01,\n",
       "        2.30244860e-01, -1.32140577e-01, -4.63320464e-01,  5.00935555e-01,\n",
       "       -1.81170046e-01,  1.21688902e-01,  2.79633909e-01, -9.22985613e-01,\n",
       "        6.90242171e-01, -8.11317861e-01, -3.26898128e-01, -8.32211524e-02,\n",
       "       -6.46043360e-01, -1.88198045e-01,  6.50442243e-02,  1.06548607e-01,\n",
       "        5.35573184e-01,  1.43047705e-01,  2.05719769e-01,  4.38261002e-01,\n",
       "        5.82688674e-02,  6.45391643e-01, -4.33486328e-02,  1.16388075e-01,\n",
       "        1.07613824e-01,  5.54982089e-02, -4.16965336e-01,  7.15427160e-01,\n",
       "        1.76058784e-01, -5.01101911e-01,  4.10622537e-01, -8.77028286e-01,\n",
       "       -3.62266839e-01,  2.91802585e-01, -3.71260524e-01, -8.75053644e-01,\n",
       "        1.50407344e-01,  7.30107903e-01, -4.03203875e-01,  4.14907724e-01,\n",
       "        1.59180135e-01, -4.30121645e-02,  9.11853254e-01, -1.80550307e-01,\n",
       "       -7.59577572e-01, -6.67438209e-01, -6.98889434e-01, -8.46600294e-01,\n",
       "        2.45857075e-01, -2.34028339e-01, -9.49343860e-01,  4.56874788e-01,\n",
       "        2.20075339e-01,  8.61122668e-01, -5.84832966e-01,  5.58892310e-01,\n",
       "       -2.09372863e-01,  2.11848214e-01, -1.01321888e+00, -5.66527434e-02,\n",
       "        6.91446126e-01,  5.64523712e-02, -6.80203021e-01,  4.75367606e-01,\n",
       "        7.41538480e-02, -7.03764379e-01,  4.12304789e-01, -2.37462595e-02,\n",
       "       -6.75458848e-01,  3.31822932e-01,  5.38796484e-01, -8.98324668e-01,\n",
       "        3.64652812e-01,  1.27217010e-01,  9.04937387e-01,  7.48864710e-01,\n",
       "        2.27782805e-03, -1.96805835e-01, -6.37699723e-01, -2.48970240e-01,\n",
       "       -9.24227953e-01, -7.98769236e-01, -9.96728539e-01, -7.75277972e-01,\n",
       "       -6.93119830e-03, -7.39287376e-01, -6.52773201e-01, -2.20228270e-01,\n",
       "       -2.97262698e-01,  2.56022066e-01,  1.54599860e-01, -7.65032589e-01,\n",
       "       -4.64021116e-01, -2.69671768e-01,  9.50810850e-01, -6.01176918e-01,\n",
       "       -9.24824119e-01, -1.03732812e+00,  5.96899629e-01, -1.69508383e-01,\n",
       "        8.14612210e-01,  5.72969854e-01, -4.38128747e-02, -2.73981541e-01,\n",
       "        1.32895541e+00,  9.85548720e-02, -3.66723627e-01, -8.93796563e-01,\n",
       "        1.49726319e+00,  1.58408135e-01, -2.62758136e-01, -7.56894723e-02,\n",
       "       -3.87168258e-01,  5.01312539e-02, -4.07219023e-01, -1.79723591e-01,\n",
       "       -5.68712354e-01,  2.13275582e-01, -1.19927120e+00,  1.75392330e-01,\n",
       "        3.76204103e-01, -4.21251297e-01, -2.51731962e-01, -4.14397687e-01,\n",
       "       -2.35245720e-01, -8.47199261e-01, -5.84737599e-01, -9.54844594e-01,\n",
       "       -1.89846814e-01, -1.77893236e-01, -5.35581037e-02,  4.27478343e-01,\n",
       "       -4.69374985e-01,  6.95795938e-02, -3.53271604e-01, -6.31894693e-02],\n",
       "      dtype=float32)"
      ]
     },
     "execution_count": 115,
     "metadata": {},
     "output_type": "execute_result"
    }
   ],
   "source": [
    "model_dbow.docvecs[8]"
   ]
  },
  {
   "cell_type": "code",
   "execution_count": 129,
   "metadata": {},
   "outputs": [],
   "source": [
    "def vec_for_learning(model, tagged_docs):\n",
    "    sents = tagged_docs.values\n",
    "    #print(model, tagged_docs, tagged_docs.values, sents)\n",
    "    targets, regressors = zip(*[(doc.tags[0], model.infer_vector(doc.words, steps=20)) for doc in sents])\n",
    "    return targets, regressors"
   ]
  },
  {
   "cell_type": "code",
   "execution_count": 130,
   "metadata": {},
   "outputs": [],
   "source": [
    "#samp_y, samp_x = vec_for_learning(model_dbow, train_tagged[:2])"
   ]
  },
  {
   "cell_type": "code",
   "execution_count": 131,
   "metadata": {},
   "outputs": [],
   "source": [
    "y_train, X_train = vec_for_learning(model_dbow, train_tagged)\n",
    "y_test, X_test = vec_for_learning(model_dbow, test_tagged)"
   ]
  },
  {
   "cell_type": "code",
   "execution_count": null,
   "metadata": {},
   "outputs": [],
   "source": []
  },
  {
   "cell_type": "code",
   "execution_count": null,
   "metadata": {},
   "outputs": [],
   "source": [
    "import sys\n",
    "!conda install --yes --prefix {sys.prefix} -c mndrake xgboost"
   ]
  },
  {
   "cell_type": "code",
   "execution_count": null,
   "metadata": {},
   "outputs": [],
   "source": []
  },
  {
   "cell_type": "code",
   "execution_count": 141,
   "metadata": {},
   "outputs": [
    {
     "ename": "NameError",
     "evalue": "name 'xgboost' is not defined",
     "output_type": "error",
     "traceback": [
      "\u001b[1;31m---------------------------------------------------------------------------\u001b[0m",
      "\u001b[1;31mNameError\u001b[0m                                 Traceback (most recent call last)",
      "\u001b[1;32m<ipython-input-141-9cbce33f6add>\u001b[0m in \u001b[0;36m<module>\u001b[1;34m()\u001b[0m\n\u001b[0;32m      1\u001b[0m \u001b[1;32mfrom\u001b[0m \u001b[0msklearn\u001b[0m \u001b[1;32mimport\u001b[0m \u001b[0msvm\u001b[0m\u001b[1;33m\u001b[0m\u001b[0m\n\u001b[0;32m      2\u001b[0m \u001b[1;33m\u001b[0m\u001b[0m\n\u001b[1;32m----> 3\u001b[1;33m \u001b[0mclassifier\u001b[0m \u001b[1;33m=\u001b[0m \u001b[0mxgboost\u001b[0m\u001b[1;33m.\u001b[0m\u001b[0mXGBClassifier\u001b[0m\u001b[1;33m(\u001b[0m\u001b[1;33m)\u001b[0m \u001b[1;31m#svm.SVC()\u001b[0m\u001b[1;33m\u001b[0m\u001b[0m\n\u001b[0m\u001b[0;32m      4\u001b[0m \u001b[0mfeature_vector_train\u001b[0m \u001b[1;33m=\u001b[0m \u001b[0mX_train\u001b[0m\u001b[1;33m\u001b[0m\u001b[0m\n\u001b[0;32m      5\u001b[0m \u001b[0mlabel\u001b[0m \u001b[1;33m=\u001b[0m \u001b[0my_train\u001b[0m\u001b[1;33m\u001b[0m\u001b[0m\n",
      "\u001b[1;31mNameError\u001b[0m: name 'xgboost' is not defined"
     ]
    }
   ],
   "source": [
    "from sklearn import svm\n",
    "\n",
    "classifier = xgboost.XGBClassifier() #svm.SVC()\n",
    "feature_vector_train = X_train\n",
    "label = y_train\n",
    "feature_vector_valid = X_test"
   ]
  },
  {
   "cell_type": "code",
   "execution_count": 137,
   "metadata": {},
   "outputs": [
    {
     "name": "stderr",
     "output_type": "stream",
     "text": [
      "C:\\ProgramData\\Anaconda3\\lib\\site-packages\\sklearn\\svm\\base.py:196: FutureWarning: The default value of gamma will change from 'auto' to 'scale' in version 0.22 to account better for unscaled features. Set gamma explicitly to 'auto' or 'scale' to avoid this warning.\n",
      "  \"avoid this warning.\", FutureWarning)\n"
     ]
    }
   ],
   "source": [
    "import sklearn.metrics\n",
    "\n",
    "classifier.fit(feature_vector_train, label)\n",
    "predictions = classifier.predict(feature_vector_valid)"
   ]
  },
  {
   "cell_type": "code",
   "execution_count": 140,
   "metadata": {},
   "outputs": [
    {
     "name": "stdout",
     "output_type": "stream",
     "text": [
      "0.708\n",
      "Testing accuracy 0.708\n",
      "Testing F1 score: 0.6620674410314155\n"
     ]
    },
    {
     "name": "stderr",
     "output_type": "stream",
     "text": [
      "C:\\ProgramData\\Anaconda3\\lib\\site-packages\\sklearn\\metrics\\classification.py:1143: UndefinedMetricWarning: F-score is ill-defined and being set to 0.0 in labels with no predicted samples.\n",
      "  'precision', 'predicted', average, warn_for)\n"
     ]
    }
   ],
   "source": [
    "print(sklearn.metrics.accuracy_score(predictions, y_test))\n",
    "from sklearn.metrics import accuracy_score, f1_score\n",
    "print('Testing accuracy %s' % accuracy_score(y_test, predictions))\n",
    "print('Testing F1 score: {}'.format(f1_score(y_test, predictions, average='weighted')))"
   ]
  },
  {
   "cell_type": "code",
   "execution_count": null,
   "metadata": {},
   "outputs": [],
   "source": []
  }
 ],
 "metadata": {
  "kernelspec": {
   "display_name": "Python 3",
   "language": "python",
   "name": "python3"
  },
  "language_info": {
   "codemirror_mode": {
    "name": "ipython",
    "version": 3
   },
   "file_extension": ".py",
   "mimetype": "text/x-python",
   "name": "python",
   "nbconvert_exporter": "python",
   "pygments_lexer": "ipython3",
   "version": "3.6.5"
  }
 },
 "nbformat": 4,
 "nbformat_minor": 2
}
