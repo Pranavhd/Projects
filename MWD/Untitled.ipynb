{
 "cells": [
  {
   "cell_type": "code",
   "execution_count": 1,
   "metadata": {},
   "outputs": [],
   "source": [
    "from numpy import *\n",
    "import operator\n",
    "from os import listdir\n",
    "import matplotlib\n",
    "import matplotlib.pyplot as plt\n",
    "import pandas as pd\n",
    "from numpy.linalg import *\n",
    "from scipy.sparse.linalg import svds\n",
    "from scipy.stats.stats import pearsonr\n",
    "from numpy import linalg as la"
   ]
  },
  {
   "cell_type": "code",
   "execution_count": 21,
   "metadata": {},
   "outputs": [
    {
     "name": "stdout",
     "output_type": "stream",
     "text": [
      "     5    4  Unnamed: 2    2  Unnamed: 4  Unnamed: 5\n",
      "0  0.0  3.0         0.0  4.0         5.0         0.0\n",
      "1  0.0  1.0         1.0  1.0         1.0         1.0\n",
      "2  5.0  3.0         0.0  0.0         1.0         2.0\n",
      "3  0.0  0.0         4.0  4.0         0.0         0.0\n",
      "4  0.0  3.0         0.0  5.0         0.0         4.0\n"
     ]
    },
    {
     "ename": "ValueError",
     "evalue": "could not convert string to float: ',3,,4,5,'",
     "output_type": "error",
     "traceback": [
      "\u001b[1;31m---------------------------------------------------------------------------\u001b[0m",
      "\u001b[1;31mValueError\u001b[0m                                Traceback (most recent call last)",
      "\u001b[1;32m<ipython-input-21-87b88cead52d>\u001b[0m in \u001b[0;36m<module>\u001b[1;34m()\u001b[0m\n\u001b[0;32m      8\u001b[0m \u001b[1;33m\u001b[0m\u001b[0m\n\u001b[0;32m      9\u001b[0m \u001b[1;31m#R = pd.DataFrame(loadtxt('factorization_1_user_mvrating.csv',delimiter='\\t', skiprows=1, usecols=range(1,ncols)))\u001b[0m\u001b[1;33m\u001b[0m\u001b[1;33m\u001b[0m\u001b[0m\n\u001b[1;32m---> 10\u001b[1;33m \u001b[0mR\u001b[0m \u001b[1;33m=\u001b[0m \u001b[0mloadtxt\u001b[0m\u001b[1;33m(\u001b[0m\u001b[1;34m'usermovie-headerless.csv'\u001b[0m\u001b[1;33m,\u001b[0m\u001b[0mdelimiter\u001b[0m\u001b[1;33m=\u001b[0m\u001b[1;34m'\\t'\u001b[0m\u001b[1;33m,\u001b[0m \u001b[0mskiprows\u001b[0m\u001b[1;33m=\u001b[0m\u001b[1;36m1\u001b[0m\u001b[1;33m,\u001b[0m \u001b[0musecols\u001b[0m\u001b[1;33m=\u001b[0m\u001b[0mrange\u001b[0m\u001b[1;33m(\u001b[0m\u001b[1;36m1\u001b[0m\u001b[1;33m,\u001b[0m\u001b[0mncols\u001b[0m\u001b[1;33m)\u001b[0m\u001b[1;33m)\u001b[0m\u001b[1;33m\u001b[0m\u001b[0m\n\u001b[0m\u001b[0;32m     11\u001b[0m \u001b[0mprint\u001b[0m\u001b[1;33m(\u001b[0m\u001b[0mR\u001b[0m\u001b[1;33m)\u001b[0m\u001b[1;33m\u001b[0m\u001b[0m\n",
      "\u001b[1;32mC:\\ProgramData\\Anaconda3\\lib\\site-packages\\numpy\\lib\\npyio.py\u001b[0m in \u001b[0;36mloadtxt\u001b[1;34m(fname, dtype, comments, delimiter, converters, skiprows, usecols, unpack, ndmin, encoding)\u001b[0m\n\u001b[0;32m   1090\u001b[0m         \u001b[1;31m# converting the data\u001b[0m\u001b[1;33m\u001b[0m\u001b[1;33m\u001b[0m\u001b[0m\n\u001b[0;32m   1091\u001b[0m         \u001b[0mX\u001b[0m \u001b[1;33m=\u001b[0m \u001b[1;32mNone\u001b[0m\u001b[1;33m\u001b[0m\u001b[0m\n\u001b[1;32m-> 1092\u001b[1;33m         \u001b[1;32mfor\u001b[0m \u001b[0mx\u001b[0m \u001b[1;32min\u001b[0m \u001b[0mread_data\u001b[0m\u001b[1;33m(\u001b[0m\u001b[0m_loadtxt_chunksize\u001b[0m\u001b[1;33m)\u001b[0m\u001b[1;33m:\u001b[0m\u001b[1;33m\u001b[0m\u001b[0m\n\u001b[0m\u001b[0;32m   1093\u001b[0m             \u001b[1;32mif\u001b[0m \u001b[0mX\u001b[0m \u001b[1;32mis\u001b[0m \u001b[1;32mNone\u001b[0m\u001b[1;33m:\u001b[0m\u001b[1;33m\u001b[0m\u001b[0m\n\u001b[0;32m   1094\u001b[0m                 \u001b[0mX\u001b[0m \u001b[1;33m=\u001b[0m \u001b[0mnp\u001b[0m\u001b[1;33m.\u001b[0m\u001b[0marray\u001b[0m\u001b[1;33m(\u001b[0m\u001b[0mx\u001b[0m\u001b[1;33m,\u001b[0m \u001b[0mdtype\u001b[0m\u001b[1;33m)\u001b[0m\u001b[1;33m\u001b[0m\u001b[0m\n",
      "\u001b[1;32mC:\\ProgramData\\Anaconda3\\lib\\site-packages\\numpy\\lib\\npyio.py\u001b[0m in \u001b[0;36mread_data\u001b[1;34m(chunk_size)\u001b[0m\n\u001b[0;32m   1017\u001b[0m \u001b[1;33m\u001b[0m\u001b[0m\n\u001b[0;32m   1018\u001b[0m             \u001b[1;31m# Convert each value according to its column and store\u001b[0m\u001b[1;33m\u001b[0m\u001b[1;33m\u001b[0m\u001b[0m\n\u001b[1;32m-> 1019\u001b[1;33m             \u001b[0mitems\u001b[0m \u001b[1;33m=\u001b[0m \u001b[1;33m[\u001b[0m\u001b[0mconv\u001b[0m\u001b[1;33m(\u001b[0m\u001b[0mval\u001b[0m\u001b[1;33m)\u001b[0m \u001b[1;32mfor\u001b[0m \u001b[1;33m(\u001b[0m\u001b[0mconv\u001b[0m\u001b[1;33m,\u001b[0m \u001b[0mval\u001b[0m\u001b[1;33m)\u001b[0m \u001b[1;32min\u001b[0m \u001b[0mzip\u001b[0m\u001b[1;33m(\u001b[0m\u001b[0mconverters\u001b[0m\u001b[1;33m,\u001b[0m \u001b[0mvals\u001b[0m\u001b[1;33m)\u001b[0m\u001b[1;33m]\u001b[0m\u001b[1;33m\u001b[0m\u001b[0m\n\u001b[0m\u001b[0;32m   1020\u001b[0m \u001b[1;33m\u001b[0m\u001b[0m\n\u001b[0;32m   1021\u001b[0m             \u001b[1;31m# Then pack it according to the dtype's nesting\u001b[0m\u001b[1;33m\u001b[0m\u001b[1;33m\u001b[0m\u001b[0m\n",
      "\u001b[1;32mC:\\ProgramData\\Anaconda3\\lib\\site-packages\\numpy\\lib\\npyio.py\u001b[0m in \u001b[0;36m<listcomp>\u001b[1;34m(.0)\u001b[0m\n\u001b[0;32m   1017\u001b[0m \u001b[1;33m\u001b[0m\u001b[0m\n\u001b[0;32m   1018\u001b[0m             \u001b[1;31m# Convert each value according to its column and store\u001b[0m\u001b[1;33m\u001b[0m\u001b[1;33m\u001b[0m\u001b[0m\n\u001b[1;32m-> 1019\u001b[1;33m             \u001b[0mitems\u001b[0m \u001b[1;33m=\u001b[0m \u001b[1;33m[\u001b[0m\u001b[0mconv\u001b[0m\u001b[1;33m(\u001b[0m\u001b[0mval\u001b[0m\u001b[1;33m)\u001b[0m \u001b[1;32mfor\u001b[0m \u001b[1;33m(\u001b[0m\u001b[0mconv\u001b[0m\u001b[1;33m,\u001b[0m \u001b[0mval\u001b[0m\u001b[1;33m)\u001b[0m \u001b[1;32min\u001b[0m \u001b[0mzip\u001b[0m\u001b[1;33m(\u001b[0m\u001b[0mconverters\u001b[0m\u001b[1;33m,\u001b[0m \u001b[0mvals\u001b[0m\u001b[1;33m)\u001b[0m\u001b[1;33m]\u001b[0m\u001b[1;33m\u001b[0m\u001b[0m\n\u001b[0m\u001b[0;32m   1020\u001b[0m \u001b[1;33m\u001b[0m\u001b[0m\n\u001b[0;32m   1021\u001b[0m             \u001b[1;31m# Then pack it according to the dtype's nesting\u001b[0m\u001b[1;33m\u001b[0m\u001b[1;33m\u001b[0m\u001b[0m\n",
      "\u001b[1;32mC:\\ProgramData\\Anaconda3\\lib\\site-packages\\numpy\\lib\\npyio.py\u001b[0m in \u001b[0;36mfloatconv\u001b[1;34m(x)\u001b[0m\n\u001b[0;32m    736\u001b[0m         \u001b[1;32mif\u001b[0m \u001b[1;34m'0x'\u001b[0m \u001b[1;32min\u001b[0m \u001b[0mx\u001b[0m\u001b[1;33m:\u001b[0m\u001b[1;33m\u001b[0m\u001b[0m\n\u001b[0;32m    737\u001b[0m             \u001b[1;32mreturn\u001b[0m \u001b[0mfloat\u001b[0m\u001b[1;33m.\u001b[0m\u001b[0mfromhex\u001b[0m\u001b[1;33m(\u001b[0m\u001b[0mx\u001b[0m\u001b[1;33m)\u001b[0m\u001b[1;33m\u001b[0m\u001b[0m\n\u001b[1;32m--> 738\u001b[1;33m         \u001b[1;32mreturn\u001b[0m \u001b[0mfloat\u001b[0m\u001b[1;33m(\u001b[0m\u001b[0mx\u001b[0m\u001b[1;33m)\u001b[0m\u001b[1;33m\u001b[0m\u001b[0m\n\u001b[0m\u001b[0;32m    739\u001b[0m \u001b[1;33m\u001b[0m\u001b[0m\n\u001b[0;32m    740\u001b[0m     \u001b[0mtyp\u001b[0m \u001b[1;33m=\u001b[0m \u001b[0mdtype\u001b[0m\u001b[1;33m.\u001b[0m\u001b[0mtype\u001b[0m\u001b[1;33m\u001b[0m\u001b[0m\n",
      "\u001b[1;31mValueError\u001b[0m: could not convert string to float: ',3,,4,5,'"
     ]
    }
   ],
   "source": [
    "#user_movie_matrix = pd.read_csv(\"usermovie.csv\",index_col='id')\n",
    "user_movie_matrix = pd.read_csv(\"usermovie-headerless.csv\")\n",
    "user_movie_matrix = user_movie_matrix.fillna(0)\n",
    "print(user_movie_matrix)\n",
    "\n",
    "with open(\"usermovie-headerless.csv\") as f:\n",
    "    ncols = len(f.readline().split('\\t'))\n",
    "\n",
    "#R = pd.DataFrame(loadtxt('factorization_1_user_mvrating.csv',delimiter='\\t', skiprows=1, usecols=range(1,ncols)))\n",
    "R = loadtxt('usermovie-headerless.csv',delimiter='\\t', skiprows=1, usecols=range(1,ncols))\n",
    "print(R)"
   ]
  },
  {
   "cell_type": "code",
   "execution_count": 9,
   "metadata": {},
   "outputs": [
    {
     "name": "stdout",
     "output_type": "stream",
     "text": [
      "     m1   m2   m3   m4   m5   m6\n",
      "id                              \n",
      "1   1.0  1.0  0.0  1.0  0.0  0.0\n",
      "2   0.0  1.0  0.0  1.0  1.0  0.0\n",
      "3   0.0  1.0  1.0  1.0  1.0  1.0\n",
      "4   1.0  1.0  0.0  0.0  1.0  1.0\n",
      "5   0.0  0.0  1.0  1.0  0.0  0.0\n",
      "6   0.0  1.0  0.0  1.0  0.0  1.0\n"
     ]
    }
   ],
   "source": [
    "kvm = user_movie_matrix>0.5\n",
    "kvm[kvm == True] = 1\n",
    "kvm[kvm == False] = 0\n",
    "# To be consistent with our R matrix\n",
    "kvm = kvm.astype(float64, copy=False)\n",
    "\n",
    "print(kvm)"
   ]
  },
  {
   "cell_type": "code",
   "execution_count": 13,
   "metadata": {},
   "outputs": [
    {
     "name": "stdout",
     "output_type": "stream",
     "text": [
      "[[-0.11798204  0.47932837 -0.49001145]\n",
      " [ 0.7807037  -0.3421447  -0.48745929]\n",
      " [ 0.01020258 -0.1150368  -0.16233937]\n",
      " [-0.03285434  0.57028591 -0.40475824]\n",
      " [-0.49657914 -0.46412793 -0.25190551]\n",
      " [-0.35889781 -0.31513028 -0.51829772]]\n",
      "------------\n",
      "[ 4.79963953  7.14808652 11.17268508]\n",
      "------------\n",
      "[[-0.15713304  0.14691292 -0.41172133 -0.18412889  0.80857462 -0.31066861]\n",
      " [ 0.73419248  0.21562546 -0.27581487 -0.55359179 -0.17563783 -0.03287399]\n",
      " [-0.40042733 -0.56870223 -0.10471623 -0.59889902 -0.26890529 -0.27254386]]\n",
      "------------\n",
      "[[ 4.79963953  0.          0.        ]\n",
      " [ 0.          7.14808652  0.        ]\n",
      " [ 0.          0.         11.17268508]]\n",
      "------------\n"
     ]
    }
   ],
   "source": [
    "k_topics = 3\n",
    "U, s, V = svds(user_movie_matrix, k=k_topics)\n",
    "Sig= zeros((k_topics, k_topics), dtype=complex)\n",
    "Sig = diag(s)\n",
    "\n",
    "'''\n",
    "print(U)\n",
    "print(\"------------\")\n",
    "print(s)\n",
    "print(\"------------\")\n",
    "print(V)\n",
    "print(\"------------\")\n",
    "print(Sig)\n",
    "print(\"------------\")\n",
    "'''"
   ]
  },
  {
   "cell_type": "code",
   "execution_count": 15,
   "metadata": {},
   "outputs": [
    {
     "name": "stdout",
     "output_type": "stream",
     "text": [
      "[[-0.11798204  0.47932837 -0.49001145]\n",
      " [ 0.7807037  -0.3421447  -0.48745929]\n",
      " [ 0.01020258 -0.1150368  -0.16233937]\n",
      " [-0.03285434  0.57028591 -0.40475824]\n",
      " [-0.49657914 -0.46412793 -0.25190551]\n",
      " [-0.35889781 -0.31513028 -0.51829772]]\n",
      "------------\n",
      "[[-0.75418193  0.70512906 -1.97611396 -0.88375228  3.88086673 -1.49109733]\n",
      " [ 5.24807139  1.54130945 -1.97154854 -3.95712201 -1.2554744  -0.23498612]\n",
      " [-4.47384844 -6.35393092 -1.16996142 -6.6913101  -3.00439408 -3.04504673]]\n",
      "------------\n"
     ]
    }
   ],
   "source": [
    "Q= \n",
    "\n",
    "#Sig_df = pd.DataFrame(Sig)\n",
    "Sig_df = Sig\n",
    "\n",
    "#V_df = pd.DataFrame(V)\n",
    "V_df = V\n",
    "\n",
    "P = dot(Sig_df,V_df)\n",
    "\n",
    "#lb = regularization constant.\n",
    "ld=0.1\n",
    "#reg_value = ld*(sum(Q**2) + sum(P**2))\n",
    "\n",
    "weighted_errors = []\n",
    "n_iterations = 10\n",
    "\n",
    "\n",
    "print(Q)\n",
    "print(\"------------\")\n",
    "print(P)\n",
    "print(\"------------\")"
   ]
  },
  {
   "cell_type": "code",
   "execution_count": 19,
   "metadata": {},
   "outputs": [
    {
     "name": "stdout",
     "output_type": "stream",
     "text": [
      "     m1   m2   m3   m4   m5   m6\n",
      "id                              \n",
      "1   1.0  1.0  0.0  1.0  0.0  0.0\n",
      "2   0.0  1.0  0.0  1.0  1.0  0.0\n",
      "3   0.0  1.0  1.0  1.0  1.0  1.0\n",
      "4   1.0  1.0  0.0  0.0  1.0  1.0\n",
      "5   0.0  0.0  1.0  1.0  0.0  0.0\n",
      "6   0.0  1.0  0.0  1.0  0.0  1.0\n",
      "0 m1\n"
     ]
    },
    {
     "ename": "ValueError",
     "evalue": "Input must be 1- or 2-d.",
     "output_type": "error",
     "traceback": [
      "\u001b[1;31m---------------------------------------------------------------------------\u001b[0m",
      "\u001b[1;31mValueError\u001b[0m                                Traceback (most recent call last)",
      "\u001b[1;32m<ipython-input-19-399d5b1c50e2>\u001b[0m in \u001b[0;36m<module>\u001b[1;34m()\u001b[0m\n\u001b[0;32m      6\u001b[0m     \u001b[1;32mfor\u001b[0m \u001b[0mu\u001b[0m\u001b[1;33m,\u001b[0m \u001b[0mWu\u001b[0m \u001b[1;32min\u001b[0m \u001b[0menumerate\u001b[0m\u001b[1;33m(\u001b[0m\u001b[0mkvm\u001b[0m\u001b[1;33m)\u001b[0m\u001b[1;33m:\u001b[0m\u001b[1;33m\u001b[0m\u001b[0m\n\u001b[0;32m      7\u001b[0m         \u001b[0mprint\u001b[0m\u001b[1;33m(\u001b[0m\u001b[0mu\u001b[0m\u001b[1;33m,\u001b[0m\u001b[0mWu\u001b[0m\u001b[1;33m)\u001b[0m\u001b[1;33m\u001b[0m\u001b[0m\n\u001b[1;32m----> 8\u001b[1;33m         \u001b[0mprint\u001b[0m\u001b[1;33m(\u001b[0m\u001b[0mdiag\u001b[0m\u001b[1;33m(\u001b[0m\u001b[0mWu\u001b[0m\u001b[1;33m)\u001b[0m\u001b[1;33m)\u001b[0m\u001b[1;33m\u001b[0m\u001b[0m\n\u001b[0m\u001b[0;32m      9\u001b[0m         \u001b[0mQ\u001b[0m\u001b[1;33m[\u001b[0m\u001b[0mu\u001b[0m\u001b[1;33m]\u001b[0m \u001b[1;33m=\u001b[0m \u001b[0mlinalg\u001b[0m\u001b[1;33m.\u001b[0m\u001b[0msolve\u001b[0m\u001b[1;33m(\u001b[0m\u001b[0mdot\u001b[0m\u001b[1;33m(\u001b[0m\u001b[0mP\u001b[0m\u001b[1;33m,\u001b[0m \u001b[0mdot\u001b[0m\u001b[1;33m(\u001b[0m\u001b[0mdiag\u001b[0m\u001b[1;33m(\u001b[0m\u001b[0mWu\u001b[0m\u001b[1;33m)\u001b[0m\u001b[1;33m,\u001b[0m \u001b[0mP\u001b[0m\u001b[1;33m.\u001b[0m\u001b[0mT\u001b[0m\u001b[1;33m)\u001b[0m\u001b[1;33m)\u001b[0m \u001b[1;33m+\u001b[0m \u001b[0mld\u001b[0m \u001b[1;33m*\u001b[0m \u001b[0meye\u001b[0m\u001b[1;33m(\u001b[0m\u001b[0mk_topics\u001b[0m\u001b[1;33m)\u001b[0m\u001b[1;33m,\u001b[0m\u001b[0mdot\u001b[0m\u001b[1;33m(\u001b[0m\u001b[0mP\u001b[0m\u001b[1;33m,\u001b[0m \u001b[0mdot\u001b[0m\u001b[1;33m(\u001b[0m\u001b[0mdiag\u001b[0m\u001b[1;33m(\u001b[0m\u001b[0mWu\u001b[0m\u001b[1;33m)\u001b[0m\u001b[1;33m,\u001b[0m \u001b[0mR\u001b[0m\u001b[1;33m[\u001b[0m\u001b[0mu\u001b[0m\u001b[1;33m]\u001b[0m\u001b[1;33m.\u001b[0m\u001b[0mT\u001b[0m\u001b[1;33m)\u001b[0m\u001b[1;33m)\u001b[0m\u001b[1;33m)\u001b[0m\u001b[1;33m.\u001b[0m\u001b[0mT\u001b[0m\u001b[1;33m\u001b[0m\u001b[0m\n\u001b[0;32m     10\u001b[0m         \u001b[1;31m#Q[u] = linalg.solve(dot(P,P.T) + ld * eye(k_topics), dot(P,R[u].T)).T\u001b[0m\u001b[1;33m\u001b[0m\u001b[1;33m\u001b[0m\u001b[0m\n",
      "\u001b[1;32mC:\\ProgramData\\Anaconda3\\lib\\site-packages\\numpy\\lib\\twodim_base.py\u001b[0m in \u001b[0;36mdiag\u001b[1;34m(v, k)\u001b[0m\n\u001b[0;32m    263\u001b[0m         \u001b[1;32mreturn\u001b[0m \u001b[0mdiagonal\u001b[0m\u001b[1;33m(\u001b[0m\u001b[0mv\u001b[0m\u001b[1;33m,\u001b[0m \u001b[0mk\u001b[0m\u001b[1;33m)\u001b[0m\u001b[1;33m\u001b[0m\u001b[0m\n\u001b[0;32m    264\u001b[0m     \u001b[1;32melse\u001b[0m\u001b[1;33m:\u001b[0m\u001b[1;33m\u001b[0m\u001b[0m\n\u001b[1;32m--> 265\u001b[1;33m         \u001b[1;32mraise\u001b[0m \u001b[0mValueError\u001b[0m\u001b[1;33m(\u001b[0m\u001b[1;34m\"Input must be 1- or 2-d.\"\u001b[0m\u001b[1;33m)\u001b[0m\u001b[1;33m\u001b[0m\u001b[0m\n\u001b[0m\u001b[0;32m    266\u001b[0m \u001b[1;33m\u001b[0m\u001b[0m\n\u001b[0;32m    267\u001b[0m \u001b[1;33m\u001b[0m\u001b[0m\n",
      "\u001b[1;31mValueError\u001b[0m: Input must be 1- or 2-d."
     ]
    }
   ],
   "source": [
    "R = user_movie_matrix\n",
    "\n",
    "print(kvm)\n",
    "\n",
    "for ii in range(n_iterations):\n",
    "    for u, Wu in enumerate(kvm):\n",
    "        print(u,Wu)\n",
    "        print(diag(Wu))\n",
    "        Q[u] = linalg.solve(dot(P, dot(diag(Wu), P.T)) + ld * eye(k_topics),dot(P, dot(diag(Wu), R[u].T))).T\n",
    "        #Q[u] = linalg.solve(dot(P,P.T) + ld * eye(k_topics), dot(P,R[u].T)).T\n",
    "\n",
    "    for i, Wi in enumerate(kvm.T):\n",
    "        P[:, i] = linalg.solve(dot(Q.T, dot(diag(Wi), Q)) + ld * eye(k_topics), dot(Q.T, dot(diag(Wi), R[:, i])))\n",
    "        #P[:, i] = linalg.solve(dot(Q.T, Q) + ld * eye(k_topics), dot(Q.T, R[:, i]))\n",
    "\n",
    "\n",
    "    R_prime = dot(Q, P)\n",
    "\n",
    "    MSE = sum((kvm * (R - R_prime)) ** 2)\n",
    "    print(\"Error = \", MSE)\n",
    "    weighted_errors.append(MSE)\n",
    "    #weighted_errors.append(sum((kvm * (R - R_prime))**2))\n",
    "    #print weighted_errors\n",
    "    print('{}th iteration is completed'.format(ii))"
   ]
  },
  {
   "cell_type": "code",
   "execution_count": null,
   "metadata": {},
   "outputs": [],
   "source": []
  }
 ],
 "metadata": {
  "kernelspec": {
   "display_name": "Python 3",
   "language": "python",
   "name": "python3"
  },
  "language_info": {
   "codemirror_mode": {
    "name": "ipython",
    "version": 3
   },
   "file_extension": ".py",
   "mimetype": "text/x-python",
   "name": "python",
   "nbconvert_exporter": "python",
   "pygments_lexer": "ipython3",
   "version": "3.6.5"
  }
 },
 "nbformat": 4,
 "nbformat_minor": 2
}
