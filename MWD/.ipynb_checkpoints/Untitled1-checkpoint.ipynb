{
 "cells": [
  {
   "cell_type": "code",
   "execution_count": 1,
   "metadata": {},
   "outputs": [],
   "source": [
    "from numpy import *\n",
    "import operator\n",
    "from os import listdir\n",
    "import matplotlib\n",
    "import matplotlib.pyplot as plt\n",
    "import pandas as pd\n",
    "from numpy.linalg import *\n",
    "from scipy.sparse.linalg import svds\n",
    "from scipy.stats.stats import pearsonr\n",
    "from numpy import linalg as la"
   ]
  },
  {
   "cell_type": "code",
   "execution_count": 6,
   "metadata": {},
   "outputs": [
    {
     "name": "stdout",
     "output_type": "stream",
     "text": [
      "    userid  movieid  rating\n",
      "0        1        1       5\n",
      "1        1        2       4\n",
      "2        1        5       2\n",
      "3        2        2       2\n",
      "4        2        3       4\n",
      "5        3        1       3\n",
      "6        3        3       5\n",
      "7        3        5       1\n",
      "8        4        1       4\n",
      "9        4        2       5\n",
      "10       5        4       3\n"
     ]
    }
   ],
   "source": [
    "col = ['user_id','song_id','rating']\n",
    "df = pd.read_csv('new_matrix_als.csv')\n",
    "print(df)\n",
    "\n",
    "df['user_id'] = df['user_id'].astype('category')\n",
    "cat_columns = df.select_dtypes(['category']).columns\n",
    "df[cat_columns] = df[cat_columns].apply(lambda x: x.cat.codes)\n",
    "df['song_id'] = df['song_id'].astype('category')\n",
    "cat_columns = df.select_dtypes(['category']).columns\n",
    "df[cat_columns] = df[cat_columns].apply(lambda x: x.cat.codes)\n",
    "\n",
    "rp = df.pivot_table(columns=['song_id'], index=['user_id'], values='rating')\n",
    "rp = rp.fillna(0)"
   ]
  },
  {
   "cell_type": "code",
   "execution_count": null,
   "metadata": {},
   "outputs": [],
   "source": []
  }
 ],
 "metadata": {
  "kernelspec": {
   "display_name": "Python 3",
   "language": "python",
   "name": "python3"
  },
  "language_info": {
   "codemirror_mode": {
    "name": "ipython",
    "version": 3
   },
   "file_extension": ".py",
   "mimetype": "text/x-python",
   "name": "python",
   "nbconvert_exporter": "python",
   "pygments_lexer": "ipython3",
   "version": "3.6.5"
  }
 },
 "nbformat": 4,
 "nbformat_minor": 2
}
