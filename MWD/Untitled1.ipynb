{
 "cells": [
  {
   "cell_type": "code",
   "execution_count": 5,
   "metadata": {},
   "outputs": [],
   "source": [
    "from numpy import *\n",
    "import operator\n",
    "from os import listdir\n",
    "import matplotlib\n",
    "import matplotlib.pyplot as plt\n",
    "import pandas as pd\n",
    "from numpy.linalg import *\n",
    "from scipy.sparse.linalg import svds\n",
    "from scipy.stats.stats import pearsonr\n",
    "from numpy import linalg as la\n",
    "import numpy as np"
   ]
  },
  {
   "cell_type": "code",
   "execution_count": 3,
   "metadata": {},
   "outputs": [
    {
     "name": "stdout",
     "output_type": "stream",
     "text": [
      "    user_id  song_id  rating\n",
      "0         1        1       5\n",
      "1         1        2       4\n",
      "2         1        5       2\n",
      "3         2        2       2\n",
      "4         2        3       4\n",
      "5         3        1       3\n",
      "6         3        3       5\n",
      "7         3        5       1\n",
      "8         4        1       4\n",
      "9         4        2       5\n",
      "10        5        4       3\n",
      "song_id    0    1    2    3    4\n",
      "user_id                         \n",
      "0        5.0  4.0  0.0  0.0  2.0\n",
      "1        0.0  2.0  4.0  0.0  0.0\n",
      "2        3.0  0.0  5.0  0.0  1.0\n",
      "3        4.0  5.0  0.0  0.0  0.0\n",
      "4        0.0  0.0  0.0  3.0  0.0\n"
     ]
    }
   ],
   "source": [
    "col = ['user_id','song_id','rating']\n",
    "df = pd.read_csv('new_matrix_als.csv')\n",
    "print(df)\n",
    "\n",
    "df['user_id'] = df['user_id'].astype('category')\n",
    "cat_columns = df.select_dtypes(['category']).columns\n",
    "df[cat_columns] = df[cat_columns].apply(lambda x: x.cat.codes)\n",
    "df['song_id'] = df['song_id'].astype('category')\n",
    "cat_columns = df.select_dtypes(['category']).columns\n",
    "df[cat_columns] = df[cat_columns].apply(lambda x: x.cat.codes)\n",
    "\n",
    "rp = df.pivot_table(columns=['song_id'], index=['user_id'], values='rating')\n",
    "rp = rp.fillna(0)\n",
    "\n",
    "print(rp)"
   ]
  },
  {
   "cell_type": "code",
   "execution_count": 16,
   "metadata": {},
   "outputs": [],
   "source": [
    "Q = rp.values\n",
    "W = Q>0.5\n",
    "W[W == True] = 1\n",
    "W[W == False] = 0\n",
    "# To be consistent with Q matrix\n",
    "W = W.astype(np.float64, copy=False)\n",
    "\n",
    "lambda_ = 0.1\n",
    "n_factors = 3\n",
    "m, n = Q.shape\n",
    "n_iterations = 20\n",
    "\n",
    "X = 5 * np.random.rand(m, n_factors) \n",
    "Y = 5 * np.random.rand(n_factors, n)\n",
    "\n",
    "errors = []"
   ]
  },
  {
   "cell_type": "code",
   "execution_count": 17,
   "metadata": {},
   "outputs": [
    {
     "name": "stdout",
     "output_type": "stream",
     "text": [
      "[[5. 4. 0. 0. 2.]\n",
      " [0. 2. 4. 0. 0.]\n",
      " [3. 0. 5. 0. 1.]\n",
      " [4. 5. 0. 0. 0.]\n",
      " [0. 0. 0. 3. 0.]]\n",
      "[[1. 1. 0. 0. 1.]\n",
      " [0. 1. 1. 0. 0.]\n",
      " [1. 0. 1. 0. 1.]\n",
      " [1. 1. 0. 0. 0.]\n",
      " [0. 0. 0. 1. 0.]]\n",
      "[[3.87619807 3.06881839 1.67913037]\n",
      " [0.24600693 1.7382197  3.04580121]\n",
      " [3.07860715 2.67568497 0.33907944]\n",
      " [0.85071199 1.96043683 1.6883778 ]\n",
      " [4.30570024 1.39002568 0.25950675]]\n",
      "[[2.850506   0.58240033 3.135614   0.55333476 1.38317652]\n",
      " [4.44413765 3.74918615 2.49753664 2.07511135 3.83300981]\n",
      " [2.2893218  0.2385923  4.21257319 0.47326336 1.52013895]]\n"
     ]
    }
   ],
   "source": [
    "print(Q)\n",
    "print(W)\n",
    "print(X)\n",
    "print(Y)"
   ]
  },
  {
   "cell_type": "code",
   "execution_count": 18,
   "metadata": {},
   "outputs": [
    {
     "name": "stdout",
     "output_type": "stream",
     "text": [
      "[[ 4.62031703  4.47190351  0.14114205 -0.21901073  1.06264632]\n",
      " [ 1.23182545  0.5818061   3.60674647  0.42371742  0.4282494 ]\n",
      " [ 2.068029    0.91475944  5.08778939 -0.28421235  0.73141518]\n",
      " [ 4.30777345  4.34499761 -0.1754079   0.22240185  0.95029647]\n",
      " [-0.35269443  0.36113373  0.09126932  2.76823175 -0.2407446 ]]\n"
     ]
    }
   ],
   "source": [
    "def get_error(Q, X, Y, W):\n",
    "    return np.sum((W * (Q - np.dot(X, Y)))**2)\n",
    "\n",
    "for ii in range(n_iterations):\n",
    "    X = np.linalg.solve(np.dot(Y, Y.T) + lambda_ * np.eye(n_factors), np.dot(Y, Q.T)).T\n",
    "    Y = np.linalg.solve(np.dot(X.T, X) + lambda_ * np.eye(n_factors), np.dot(X.T, Q))\n",
    "    errors.append(get_error(Q, X, Y, W))\n",
    "Q_hat = np.dot(X, Y)\n",
    "\n",
    "print(Q_hat)"
   ]
  },
  {
   "cell_type": "code",
   "execution_count": 19,
   "metadata": {},
   "outputs": [
    {
     "name": "stdout",
     "output_type": "stream",
     "text": [
      "song_id    0    1    2    3    4\n",
      "user_id                         \n",
      "0        5.0  4.0  0.0  0.0  2.0\n",
      "1        0.0  2.0  4.0  0.0  0.0\n",
      "2        3.0  0.0  5.0  0.0  1.0\n",
      "3        4.0  5.0  0.0  0.0  0.0\n",
      "4        0.0  0.0  0.0  3.0  0.0\n"
     ]
    }
   ],
   "source": [
    "print(rp)"
   ]
  },
  {
   "cell_type": "code",
   "execution_count": null,
   "metadata": {},
   "outputs": [],
   "source": []
  }
 ],
 "metadata": {
  "kernelspec": {
   "display_name": "Python 3",
   "language": "python",
   "name": "python3"
  },
  "language_info": {
   "codemirror_mode": {
    "name": "ipython",
    "version": 3
   },
   "file_extension": ".py",
   "mimetype": "text/x-python",
   "name": "python",
   "nbconvert_exporter": "python",
   "pygments_lexer": "ipython3",
   "version": "3.6.5"
  }
 },
 "nbformat": 4,
 "nbformat_minor": 2
}
